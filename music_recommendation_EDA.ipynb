{
 "cells": [
  {
   "cell_type": "code",
   "execution_count": 1,
   "id": "126c7adc",
   "metadata": {},
   "outputs": [],
   "source": [
    "import numpy as np\n",
    "import pandas as pd\n",
    "import matplotlib.pyplot as plt\n",
    "import seaborn as sns\n",
    "%matplotlib inline\n",
    "\n",
    "import os\n",
    "import sys\n",
    "import glob\n",
    "import time\n",
    "import datetime\n",
    "import csv\n",
    "\n",
    "import h5py\n",
    "from ipymol import viewer as pymol\n"
   ]
  },
  {
   "cell_type": "code",
   "execution_count": 2,
   "id": "93bd8915",
   "metadata": {
    "scrolled": true
   },
   "outputs": [],
   "source": [
    "msd_subset_path = 'C:/Users/edgar/Desktop/Data Sets/MillionSongSubset'\n",
    "\n",
    "msd_subset_data_path = os.path.join(msd_subset_path, 'data')\n",
    "msd_subset_addf_path = os.path.join(msd_subset_path, 'AdditionalFiles')\n",
    "\n",
    "assert os.path.isdir(msd_subset_path), 'wrong path'"
   ]
  },
  {
   "cell_type": "code",
   "execution_count": 3,
   "id": "8a04fbb5",
   "metadata": {},
   "outputs": [],
   "source": [
    "msd_code_path = 'C:/Users/edgar/Desktop/Data Sets/MSongsDB-master'\n",
    "assert os.path.isdir(msd_code_path), 'wrong path'"
   ]
  },
  {
   "cell_type": "code",
   "execution_count": 4,
   "id": "605c5f15",
   "metadata": {},
   "outputs": [],
   "source": [
    "sys.path.append(os.path.join(msd_code_path, 'PythonSrc'))"
   ]
  },
  {
   "cell_type": "code",
   "execution_count": 5,
   "id": "e722cbb8",
   "metadata": {},
   "outputs": [],
   "source": [
    "import hdf5_getters as GETTERS\n",
    "import os"
   ]
  },
  {
   "cell_type": "code",
   "execution_count": 48,
   "id": "4ada4e5e",
   "metadata": {},
   "outputs": [],
   "source": [
    "def feature_collector(filepath):\n",
    "    \n",
    "    with h5py.File(filepath, 'r') as f:\n",
    "        artist_name = f['metadata']['songs']['artist_name'][0].decode('utf-8')\n",
    "        tempo = f['analysis']['songs']['tempo'][0]\n",
    "        key = f['analysis']['songs']['key'][0]\n",
    "        mode = f['analysis']['songs']['mode'][0]\n",
    "        segments_timbre = f['analysis']['segments_timbre'][0]\n",
    "\n",
    "        \n",
    "    return {\n",
    "        \"artist_name\": artist_name,\n",
    "        \"tempo\": tempo,\n",
    "        \"key\": key,\n",
    "        \"mode\": mode,\n",
    "        'segments_timbre': segments_timbre\n",
    "    }\n",
    "            \n",
    "    \n",
    "\n",
    "        \n",
    "def process_h5_files(basedir, func=lambda x: x, ext='.h5'):\n",
    "\n",
    "    data = []\n",
    "    \n",
    "    for root, dirs, files in os.walk(basedir):\n",
    "        for file in files:\n",
    "            if file.endswith(ext):\n",
    "                filepath = os.path.join(root, file)\n",
    "                \n",
    "                data.append(feature_collector(filepath))\n",
    "            \n",
    "                         \n",
    "\n",
    "    return pd.DataFrame(data)"
   ]
  },
  {
   "cell_type": "code",
   "execution_count": null,
   "id": "6cab36ae",
   "metadata": {
    "scrolled": false
   },
   "outputs": [],
   "source": [
    "df = process_h5_files(msd_subset_path)"
   ]
  },
  {
   "cell_type": "code",
   "execution_count": null,
   "id": "549728ae",
   "metadata": {
    "scrolled": true
   },
   "outputs": [],
   "source": [
    "df"
   ]
  },
  {
   "cell_type": "code",
   "execution_count": null,
   "id": "181ed159",
   "metadata": {},
   "outputs": [],
   "source": [
    "df.head()"
   ]
  },
  {
   "cell_type": "code",
   "execution_count": null,
   "id": "c6142f92",
   "metadata": {},
   "outputs": [],
   "source": [
    "def print_keys(filepath):\n",
    "    with h5py.File(filepath, 'r') as f:\n",
    "        f.visit(print)\n",
    "\n",
    "# Use the function on a sample .h5 file\n",
    "print_keys(\"C:/Users/edgar/Desktop/Data Sets/MillionSongSubset\\A\\A\\B\\TRAABDL12903CAABBA.h5\")"
   ]
  },
  {
   "cell_type": "code",
   "execution_count": null,
   "id": "a662db9f",
   "metadata": {},
   "outputs": [],
   "source": []
  }
 ],
 "metadata": {
  "kernelspec": {
   "display_name": "Python 3 (ipykernel)",
   "language": "python",
   "name": "python3"
  },
  "language_info": {
   "codemirror_mode": {
    "name": "ipython",
    "version": 3
   },
   "file_extension": ".py",
   "mimetype": "text/x-python",
   "name": "python",
   "nbconvert_exporter": "python",
   "pygments_lexer": "ipython3",
   "version": "3.11.4"
  }
 },
 "nbformat": 4,
 "nbformat_minor": 5
}
